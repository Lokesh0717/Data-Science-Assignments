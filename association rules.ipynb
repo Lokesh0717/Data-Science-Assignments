import pandas as pd
df = pd.read_excel('/Users/junnu/Downloads/Data Science /Assignment Questions/Association Rules/Online retail.xlsx',header = None)
df
df.isnull().sum()
df.info()

transactions = []
for i in range(len(df)):
    transactions.append([str(item) for item in df.iloc[i, 0].split(',')])
transactions = transactions[1:]
print("Number of transactions:", len(transactions))

from apyori import apriori 
rules = apriori(transactions=transactions,
                min_support=0.003,
                min_confidence=0.2,
                min_lift=3,
                min_length=2,
                max_length=2)

report = list(rules)
print("Number of association rules:", len(report))
report

report[0]
report[0][0]
report[0][1]
report[0][2][0][0]
report[0][2][0][1]
report[0][2][0][2]
a=[]
b=[]
c=[]
d=[]
e=[]

for i in range(0,9):
    a.append(report[i][1])
    b.append(report[i][2][0][0])
    c.append(report[i][2][0][1])
    d.append(report[i][2][0][2])
    e.append(report[1][2][0][3])
    
df_new  = pd.concat([pd.DataFrame(a),
          pd.DataFrame(b),
          pd.DataFrame(c),
          pd.DataFrame(d),
          pd.DataFrame(e)],axis=1)
df_new.columns = ['Support','baseitem','add item','confidence','lift']
df_new