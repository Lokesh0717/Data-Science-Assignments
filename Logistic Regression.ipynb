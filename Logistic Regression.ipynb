import pandas as pd
import numpy as np
import matplotlib.pyplot as plt
import seaborn as sns
from sklearn.linear_model import LogisticRegression

train_df= pd.read_csv('/Users/junnu/Downloads/Data Science /Assignment Questions/Logistic Regression/Titanic_train.csv')
test_df= pd.read_csv('/Users/junnu/Downloads/Data Science /Assignment Questions/Logistic Regression/Titanic_test.csv')

print('Training Dataset:')
print(train_df.head())

print("\nTesting Dataset:")
print(test_df.head())

print("\nSummary Statistics - Training Dataset:")
print(train_df.describe())

print("\nSummary Statistics - Testing Dataset:")
print(test_df.describe())

print("\nData Types - Training Dataset:")
print(train_df.dtypes)

print("\nMissing Values - Training Dataset:")
print(train_df.isnull().sum())

print("\nMissing Values - Testing Dataset:")
print(test_df.isnull().sum())

train_df.hist(figsize=(12, 8))
plt.suptitle('Histograms of Numerical Features - Training Dataset')
plt.show()

plt.figure(figsize=(12, 8))
sns.boxplot(train_df)
plt.title('Box Plots of Numerical Features - Training Dataset')
plt.xticks(rotation=45)
plt.show()

plt.figure(figsize=(15, 10))
sns.pairplot(train_df, hue='Survived')
plt.suptitle('Pair Plot of Numerical Features - Training Dataset')
plt.show()

plt.figure(figsize=(15, 10))
sns.pairplot(train_df, hue='Survived')
plt.suptitle('Pair Plot of Numerical Features - Training Dataset')
plt.show()


plt.figure(figsize=(8, 6))
sns.countplot(data=train_df, x='Sex', hue='Survived')
plt.title('Count Plot of Sex - Training Dataset')
plt.show()

train_df['Age'].fillna(train_df['Age'].mean(), inplace=True)
test_df['Age'].fillna(test_df['Age'].mean(), inplace=True)

train_df['Fare'].fillna(train_df['Fare'].mean(), inplace=True)
test_df['Fare'].fillna(test_df['Fare'].mean(), inplace=True)

train_df['Embarked'].fillna(train_df['Embarked'].mode()[0], inplace=True)
test_df['Embarked'].fillna(test_df['Embarked'].mode()[0], inplace=True)

from sklearn.preprocessing import LabelEncoder
LE=LabelEncoder()
for column in test_df.columns:
    test_df[column] = LE.fit_transform(test_df[column])

from sklearn.preprocessing import LabelEncoder
LE=LabelEncoder()
for column in train_df.columns:
    train_df[column] = LE.fit_transform(train_df[column])

print("Preprocessed Training Dataset:")
print(train_df.head())

print("\nPreprocessed Testing Dataset:")
print(test_df.head())

X_train = train_df.drop('Survived', axis=1)
y_train = train_df['Survived']


X_test = test_df


from sklearn.model_selection import train_test_split
X_train_split, X_val_split, y_train_split, y_val_split = train_test_split(X_train, y_train, test_size=0.2, random_state=42)


model = LogisticRegression(max_iter=1000)
model.fit(X_train_split, y_train_split)

from sklearn.metrics import accuracy_score, confusion_matrix, classification_report
y_val_pred = model.predict(X_val_split)


accuracy = accuracy_score(y_val_split, y_val_pred)
conf_matrix = confusion_matrix(y_val_split, y_val_pred)
class_report = classification_report(y_val_split, y_val_pred)

print(f'Accuracy: {accuracy}')
print(f'Confusion Matrix:\n{conf_matrix}')
print(f'Classification Report:\n{class_report}')


test_predictions = model.predict(X_test)
submission = pd.DataFrame({'id': test_df.index, 'survived': test_predictions})
submission
submission.to_csv('test_predictions.csv', index=False)

import pandas as pd
import streamlit as st
st.title('Titanic Survival Prediction App')

def user_input_features():
    pclass = st.sidebar.selectbox('passenger Class',[1, 2, 3])
    sex = st.sidebar.selectbox('Sex', ['male', 'female'])
    age = st.number_input('Age', min_value=0, max_value=80)
    fare = st.number_input('Fare', min_value=0, max_value=500)
    sibsp = st.number_input('Siblings/Spouses Aboard', min_value=0, max_value=8)
    parch = st.number_input('Parents/Children Aboard', min_value=0, max_value=8)
    data = {'Pclass':[pclass],
            'Sex':[sex],
            'Age':[age],
            'Fare':[fare],
            'SibSp':[sibsp],
            'Parch': [parch]}
    features = pd.DataFrame(data,index = [0])
    return features 
df = user_input_features()
test_predictions = model.predict(X_test)

if test_predictions[0] == 1:
    st.write('The passenger is predicted to survive.')
else:
    st.write('The passenger is predicted not to survive.')





































