#1. program for checking Prime Numbers or not

def is_prime(num):
  if num <= 1:
    return False
  for i in range(2, int(num**0.5) + 1):
    if num % i == 0:
      return False
  return True

input_num = int(input("Enter a number: "))

if is_prime(input_num):
  print(f"{input_num} is a prime number.")
else:
  print(f"{input_num} is not a prime number.")
----------------  
#2. program for Product of Random Numbers

import random
num1 = random.randint(1, 10)
num2 = random.randint(1, 10)
product = int(input(f"What is the product of {num1} and {num2}? "))
if product == num1 * num2:
  print("Correct!")
else:
  print("Incorrect. The correct answer is", num1 * num2)
  
--------------------

#3. Program for all even numbers with the range 100 to 200

for i in range(100, 201):
  if i % 2 == 0:
    square = i ** 2
    print(f"The square of {i} is {square}")
    
---------------------

#4. program for words counting in a sentence

input_text = input("Enter your sentence : ")
words = input_text.split()
word_counts = {}
for word in words:
  if word in word_counts:
    word_counts[word] += 1
  else:
    word_counts[word] = 1
for word, count in word_counts.items():
  print(f"'{word}': {count}")

-----------------------

#5. program for checking palindrome true or fall

def is_palindrome(word):
  word = word.lower().replace(" ", "")
  return word == word[::-1]
input_word = input("Enter a word: ")
if is_palindrome(input_word):
  print(f"{input_word} is a palindrome.")
else:
  print(f"{input_word} is not a palindrome.")