import pandas as pd
df = pd.read_excel('/Users/junnu/Downloads/Data Science /Assignment Questions/Clustering/EastWestAirlines.xlsx',sheet_name='data')
df
df.describe()
df.info()

missing_values = df.isnull().sum()
missing_values

import matplotlib.pyplot as plt
for feature in df.columns:
    df=df.copy()
    df[feature].hist(bins=25)
    plt.ylabel('Count')
    plt.title(feature)
    plt.show()
    fig = plt.figure(figsize =(10, 7))
    plt.boxplot(df)
    plt.show()
    
import seaborn as sns
for n in df.columns:
    print(n)
    sns.kdeplot(df[n])
    plt.show()



from sklearn.cluster import KMeans
inertia = []
for i in range(1, 11):
  km = KMeans(n_clusters=i, random_state=0)
  km.fit(df)
  inertia.append(km.inertia_)

import matplotlib.pyplot as plt
plt.plot(range(1, 11), inertia)
plt.xlabel('Number of clusters')
plt.ylabel('Inertia')
plt.show()

num_clusters = 5

km = KMeans(n_clusters=num_clusters, random_state=0)
km.fit(df)

labels = km.labels_

centers = km.cluster_centers_

print('Cluster labels:')
print(labels)
print('\nCluster centers:')
print(centers)

plt.scatter(df['Balance'], df['Qual_miles'], c=labels)
plt.scatter(centers[:, 0], centers[:, 1], marker='*', color='red')
plt.xlabel('Balance')
plt.ylabel('Qual_miles')
plt.title('K-Means Clustering with {} Clusters'.format(num_clusters))
plt.show()


from sklearn.cluster import AgglomerativeClustering
linkage_methods = ['ward', 'complete', 'average', 'single']

for method in linkage_methods:
  hc = AgglomerativeClustering(linkage=method)
  hc.fit(df)
  labels = hc.labels_

  print('Cluster labels for linkage method {}:'.format(method))
  print(labels)
  
from sklearn.cluster import DBSCAN
epsilon_values = [0.5, 1.0, 1.5, 2.0]

for epsilon in epsilon_values:
  dbscan = DBSCAN(eps=epsilon)
  dbscan.fit(df)
  labels = dbscan.labels_
  print('Cluster labels for epsilon {}:'.format(epsilon))
  print(labels)


from sklearn.metrics import silhouette_score
from sklearn.cluster import KMeans, DBSCAN
import numpy as np
k_values = range(2, 11)  
kmeans_silhouette_scores = []

for k in k_values:
    kmeans = KMeans(n_clusters=k, random_state=42)
    labels = kmeans.fit_predict(df)
    silhouette_score_kmeans = silhouette_score(df, labels)
    kmeans_silhouette_scores.append(silhouette_score_kmeans)

print('K-Means silhouette scores:')
for k, score in zip(k_values, kmeans_silhouette_scores):
    print(f'Clusters: {k}, Silhouette Score: {score}')


dbscan_silhouette_scores = []
min_samples_values = [5, 10, 15]  
for epsilon in epsilon_values:
    for min_samples in min_samples_values:
        dbscan = DBSCAN(eps=epsilon, min_samples=min_samples)
        labels = dbscan.fit_predict(df)
        if len(np.unique(labels)) > 1: 
            silhouette_score_dbscan = silhouette_score(df, labels)
            dbscan_silhouette_scores.append((epsilon, min_samples, silhouette_score_dbscan))

print('DBSCAN silhouette scores:')
for epsilon, min_samples, score in dbscan_silhouette_scores:
    print(f'Epsilon: {epsilon}, Min Samples: {min_samples}, Silhouette Score: {score}')


# CONCLUSION

I have applied EDA to analyze dataset.Discovered correlation between diff variables and found colinearity.
I have used & analyzed two clustering techniques here..i) KMeans, ii) Hierarchical Clusterig & iii) DBSCA
KMeans clustering is sensitive to outliers
Based on the silhouette scores, K-Means with 2 clusters and DBSCAN with epsilon 0.5 and min_samples 5 appear to be the best clustering configurations for this dataset






































