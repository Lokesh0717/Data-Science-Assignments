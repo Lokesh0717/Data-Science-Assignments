import pandas as pd
df = pd.read_csv('/Users/junnu/Downloads/Data Science /Assignment Questions/SVM/mushroom.csv')
df
df.dtypes
df.head()
print('Shape of Data',df.shape)
print(df.sample(5))
df.info()

import matplotlib.pyplot as plt

df.hist(figsize=(10, 8))
plt.show()

import seaborn as sns

df.boxplot(figsize=(10, 8))
plt.show()

for col in df.columns:
  plt.scatter(df.index, df[col])
  plt.title(col)
  plt.show()
  
  #data transformation
from sklearn.preprocessing import LabelEncoder
LE=LabelEncoder()
for column in df.columns:
    df[column] = LE.fit_transform(df[column])
    df.head()

plt.figure(figsize=(14,12))
sns.heatmap(df.corr(),linewidths=.1,cmap="Purples", annot=True, annot_kws={"size": 7})
plt.yticks(rotation=0);
df.corr()

X = df.drop(['class'], axis=1)  
Y = df["class"]  
from sklearn.model_selection import train_test_split
import numpy as np
from sklearn.svm import SVC

clf = SVC(C=1.0,kernel='linear')
training_acc = []
test_acc = []
traning_loss = []
test_loss = []

from sklearn.metrics import accuracy_score,log_loss
X_train,X_test,Y_train,Y_test  = train_test_split(X,Y,test_size = 0.2)
clf.fit(X_train, Y_train)

y_pred_train = clf.predict(X_train)
y_pred_test = clf.predict(X_test)
training_acc.append(accuracy_score(Y_train,y_pred_train))
test_acc.append(accuracy_score(Y_test,y_pred_test))
traning_loss.append(log_loss(Y_train,y_pred_train))
test_loss.append(log_loss(Y_test,y_pred_test))
print("CV- Traning Accuracy: ",np.mean(training_acc).round(2))
print("CV- Test Accuracy: ",np.mean(test_acc).round(2))
print("CV- Traning loss: ",np.mean(traning_loss).round(2))
print("CV- Test loss: ",np.mean(test_loss).round(2))

from sklearn.metrics import accuracy_score, precision_score, recall_score, f1_score
accuracy = accuracy_score(Y_test, y_pred_test)
precision = precision_score(Y_test, y_pred_test, average='weighted')
recall = recall_score(Y_test, y_pred_test, average='weighted')
f1 = f1_score(Y_test, y_pred_test, average='weighted')
print("Accuracy:", accuracy)
print("Precision:", precision)
print("Recall:", recall)
print("F1-score:", f1)

clf = SVC(C=1.0,kernel='poly',degree=2)
training_acc = []
test_acc = []
traning_loss = []
test_loss = []

from sklearn.metrics import accuracy_score,log_loss
X_train,X_test,Y_train,Y_test  = train_test_split(X,Y,test_size = 0.2)
clf.fit(X_train, Y_train)
y_pred_train = clf.predict(X_train)
y_pred_test = clf.predict(X_test)
training_acc.append(accuracy_score(Y_train,y_pred_train))
test_acc.append(accuracy_score(Y_test,y_pred_test))
traning_loss.append(log_loss(Y_train,y_pred_train))
test_loss.append(log_loss(Y_test,y_pred_test))
print("CV- Traning Accuracy: ",np.mean(training_acc).round(2))
print("CV- Test Accuracy: ",np.mean(test_acc).round(2))
print("CV- Traning loss: ",np.mean(traning_loss).round(2))
print("CV- Test loss: ",np.mean(test_loss).round(2))


from sklearn.metrics import accuracy_score, precision_score, recall_score, f1_score
accuracy = accuracy_score(Y_test, y_pred_test)
precision = precision_score(Y_test, y_pred_test, average='weighted')
recall = recall_score(Y_test, y_pred_test, average='weighted')
f1 = f1_score(Y_test, y_pred_test, average='weighted')
print("Accuracy:", accuracy)
print("Precision:", precision)
print("Recall:", recall)
print("F1-score:", f1)

clf = SVC(C=1.0,kernel='poly',degree=3)
from sklearn.metrics import accuracy_score,log_loss
X_train,X_test,Y_train,Y_test  = train_test_split(X,Y,test_size = 0.2)
clf.fit(X_train, Y_train)

y_pred_train = clf.predict(X_train)
y_pred_test = clf.predict(X_test)
training_acc.append(accuracy_score(Y_train,y_pred_train))
test_acc.append(accuracy_score(Y_test,y_pred_test))
traning_loss.append(log_loss(Y_train,y_pred_train))
test_loss.append(log_loss(Y_test,y_pred_test))
print("CV- Traning Accuracy: ",np.mean(training_acc).round(2))
print("CV- Test Accuracy: ",np.mean(test_acc).round(2))
print("CV- Traning loss: ",np.mean(traning_loss).round(2))
print("CV- Test loss: ",np.mean(test_loss).round(2))


from sklearn.metrics import accuracy_score, precision_score, recall_score, f1_score
accuracy = accuracy_score(Y_test, y_pred_test)
precision = precision_score(Y_test, y_pred_test, average='weighted')
recall = recall_score(Y_test, y_pred_test, average='weighted')
f1 = f1_score(Y_test, y_pred_test, average='weighted')
print("Accuracy:", accuracy)
print("Precision:", precision)
print("Recall:", recall)
print("F1-score:", f1)

clf = SVC(C=1.0,kernel='rbf',gamma='scale')
from sklearn.metrics import accuracy_score,log_loss
X_train,X_test,Y_train,Y_test  = train_test_split(X,Y,test_size = 0.2)
clf.fit(X_train, Y_train)
y_pred_train = clf.predict(X_train)
y_pred_test = clf.predict(X_test)
training_acc.append(accuracy_score(Y_train,y_pred_train))
test_acc.append(accuracy_score(Y_test,y_pred_test))
traning_loss.append(log_loss(Y_train,y_pred_train))
test_loss.append(log_loss(Y_test,y_pred_test))
print("CV- Traning Accuracy: ",np.mean(training_acc).round(2))
print("CV- Test Accuracy: ",np.mean(test_acc).round(2))
print("CV- Traning loss: ",np.mean(traning_loss).round(2))
print("CV- Test loss: ",np.mean(test_loss).round(2))

from sklearn.metrics import accuracy_score, precision_score, recall_score, f1_score
accuracy = accuracy_score(Y_test, y_pred_test)
precision = precision_score(Y_test, y_pred_test, average='weighted')
recall = recall_score(Y_test, y_pred_test, average='weighted')
f1 = f1_score(Y_test, y_pred_test, average='weighted')
print("Accuracy:", accuracy)
print("Precision:", precision)
print("Recall:", recall)
print("F1-score:", f1)


















