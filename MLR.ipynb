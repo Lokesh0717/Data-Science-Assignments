import pandas as pd
df = pd.read_csv('/Users/junnu/Downloads/Data Science /Assignment Questions/MLR/ToyotaCorolla - MLR.csv')
df
df.info()
df.isnull().sum()
df.describe()

import matplotlib.pyplot as plt
plt.scatter(df['Price'], df['Age_08_04'])
plt.show()

df.hist(figsize=(10, 8))
plt.show()

from sklearn.preprocessing import LabelEncoder
LE = LabelEncoder()
df["Fuel_Type"] = LE.fit_transform(df["Fuel_Type"])
df["Fuel_Type"]
df.describe()
df.corr()
df.fillna(df.mean(), inplace=True)

X = df[['Age_08_04', 'KM', 'Fuel_Type', 'HP', 'Automatic', 'cc', 'Doors', 'Weight', 'Cylinders','Gears']]
Y = df['Price']

from sklearn.preprocessing import StandardScaler
SS= StandardScaler()
X_SS=SS.fit_transform(X)
X_SS=pd.DataFrame(X_SS)
X_SS.columns = list(X)
X_SS

from sklearn.model_selection import train_test_split
X_train,X_test,Y_train,Y_test = train_test_split(X_SS,Y,test_size= 0.2,random_state=42)
X = df[['Age_08_04', 'KM', 'Fuel_Type', 'HP', 'Automatic', 'cc', 'Doors', 'Weight', 'Cylinders','Gears']]
Y = df['Price']

from sklearn.linear_model import LinearRegression
from sklearn.metrics import mean_squared_error, r2_score

mlr_model = LinearRegression()
mlr_model.fit(X_train, Y_train)

y_pred = mlr_model.predict(X_test)

mse = mean_squared_error(Y_test, y_pred)
rmse = mean_squared_error(Y_test, y_pred, squared=False)
r2 = r2_score(Y_test, y_pred)

print("Model 1 Results:")
print("Mean Squared Error (MSE):", mse)
print("Root Mean Squared Error (RMSE):", rmse)
print("R-squared (R2):", r2)
print("vif value:", 1/(1-r2))


X1 = df[['Age_08_04', 'KM', 'HP', 'cc', 'Weight', 'Cylinders','Gears']]
Y1 = df['Price']

X1_train, X1_test, Y1_train, Y1_test = train_test_split(X1, Y1, test_size=0.2, random_state=42)

mlr_model1 = LinearRegression()
mlr_model1.fit(X1_train, Y1_train)

y1_pred = mlr_model1.predict(X1_test)

mse1 = mean_squared_error(Y1_test, y1_pred)
rmse1 = mean_squared_error(Y1_test, y1_pred, squared=False)
r2_1 = r2_score(Y1_test, y1_pred)

print("Model 2 Results:")
print("Mean Squared Error (MSE):", mse1)
print("Root Mean Squared Error (RMSE):", rmse1)
print("R-squared (R2):", r2_1)
print("vif value:", 1/(1-r2_1))

X2 = df[['Fuel_Type', 'Automatic', 'Doors', 'Age_08_04', 'KM', 'HP', 'cc', 'Weight', 'Cylinders','Gears']]
Y2 = df['Price']

X2_train, X2_test, Y2_train, Y2_test = train_test_split(X2, Y2, test_size=0.2, random_state=42)

mlr_model2 = LinearRegression()
mlr_model2.fit(X2_train, Y2_train)

y2_pred = mlr_model2.predict(X2_test)

mse2 = mean_squared_error(Y2_test, y2_pred)
rmse2 = mean_squared_error(Y2_test, y2_pred, squared=False)
r2_2 = r2_score(Y2_test, y2_pred)

print("Model 3 Results:")
print("Mean Squared Error (MSE):", mse2)
print("Root Mean Squared Error (RMSE):", rmse2)
print("R-squared (R2):", r2_2)
print("vif value:", 1/(1-r2_2))


from sklearn.linear_model import LinearRegression
LR= LinearRegression()

LR.fit(X_train,Y_train)

y_pred_train = LR.predict(X_train)
y_pred_test =LR.predict(X_test)

df_coef = pd.concat([pd.DataFrame(list(X_SS)),pd.DataFrame(LR.coef_)], axis=1)
df_coef

from sklearn.linear_model import Ridge
RR = Ridge(alpha=300)
RR.fit(X_train,Y_train)
RR.coef_
df_coef["RR_coef"] =RR.coef_
df_coef


from sklearn.linear_model import Lasso
LS = Lasso(alpha=150)
X_train,X_test,Y_train,Y_test  = train_test_split(X_SS,Y,test_size = 0.2,random_state=499)
LS.fit(X_train,Y_train)
LS.coef_
df_coef["LS_coef"] =LS.coef_
df_coef

X_new = X_SS.drop(X_SS.columns[[2,4,5,6,8,9]],axis=1)
X_new

























































