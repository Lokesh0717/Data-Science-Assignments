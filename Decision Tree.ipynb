import pandas as pd
df  = pd.read_excel('/Users/junnu/Downloads/Data Science /Assignment Questions/Decision Tree/heart_disease.xlsx',sheet_name='Heart_disease')
df.shape
df.head
import numpy as np
import seaborn as sns
import matplotlib.pyplot as plt
from sklearn.tree import plot_tree
from sklearn.preprocessing import LabelEncoder
from sklearn.preprocessing import StandardScaler
from sklearn.impute import SimpleImputer
df.isnull().sum()
df.describe()
import matplotlib.pyplot as plt
df.hist(figsize=(10, 10), bins=10)
plt.show()

df.boxplot(figsize=(10, 10))
plt.show()
cat_cols = df.select_dtypes(include=['object']).columns.tolist()
num_cols = df.select_dtypes(include=['float64', 'int64']).columns.tolist()
num_corr = df[num_cols].corr()

print("Correlation matrix for numerical variables:")
display(num_corr)
df = pd.get_dummies(df, drop_first=True)

from sklearn.preprocessing import StandardScaler
scaler = StandardScaler()
df[df.select_dtypes(include=['int64', 'float64']).columns] = scaler.fit_transform(df.select_dtypes(include=['int64', 'float64']))
df.fillna(df.mean(), inplace=True)
df.isnull().sum()

from sklearn.model_selection import train_test_split
from sklearn.tree import DecisionTreeClassifier
from sklearn.impute import SimpleImputer
from sklearn.metrics import accuracy_score, precision_score, recall_score, f1_score, roc_auc_score
import pandas as pd
df = pd.get_dummies(df, drop_first=True)
df.isnull().sum()

df['num'] = (df['num'] > 0).astype(int)
X = df.drop('num', axis=1)
y = df['num']
X_train, X_test, y_train, y_test = train_test_split(X, y, test_size=0.2, random_state=42)
model = DecisionTreeClassifier(criterion='entropy', max_depth=5)
imputer = SimpleImputer(strategy='mean')
model.fit(X_train, y_train)

y_pred = model.predict(X_test)
accuracy = accuracy_score(y_test, y_pred)
precision = precision_score(y_test, y_pred, average='weighted')
recall = recall_score(y_test, y_pred, average='weighted')
f1 = f1_score(y_test, y_pred, average='weighted')
roc_auc = roc_auc_score(y_test, y_pred)

print('Accuracy:', accuracy)
print('Precision:', precision)
print('Recall:', recall)
print('F1 Score:', f1)
print('ROC-AUC:', roc_auc)



from sklearn.model_selection import GridSearchCV
grid = {
    'max_depth': [3, 5, 7, 9],
    'min_samples_split': [2, 5, 10],
    'criterion': ['entropy', 'gini']
}
dt_clf = DecisionTreeClassifier()

grid_search = GridSearchCV(estimator=dt_clf, param_grid=grid, cv=5)

grid_search.fit(X_train, y_train)

best_params = grid_search.best_params_

print('Best Hyperparameters:')
print(best_params)

best_model = grid_search.best_estimator_

y_pred = best_model.predict(X_test)
accuracy = accuracy_score(y_test, y_pred)
precision = precision_score(y_test, y_pred, average='weighted')
recall = recall_score(y_test, y_pred, average='weighted')
f1 = f1_score(y_test, y_pred, average='weighted')
roc_auc = roc_auc_score(y_test, y_pred)

print('Accuracy:', accuracy)
print('Precision:', precision)
print('Recall:', recall)
print('F1 Score:', f1)
print('ROC-AUC:', roc_auc)

import matplotlib.pyplot as plt
from sklearn.metrics import confusion_matrix
cm = confusion_matrix(y_test, y_pred)
print(cm)

from sklearn.tree import plot_tree
plt.figure(figsize=(10, 10))
plot_tree(best_model, feature_names=X.columns, class_names=['0', '1'], fontsize=10, filled=True)
plt.show()

importance = best_model.feature_importances_
for i, feature in enumerate(X.columns):
    print(f"{feature}: {importance[i]}")

accuracy = accuracy_score(y_test, y_pred)
print('Accuracy:', accuracy)

precision = precision_score(y_test, y_pred, average='weighted')
print('Precision:', precision)

recall = recall_score(y_test, y_pred, average='weighted')
print('Recall:', recall)

f1 = f1_score(y_test, y_pred, average='weighted')
print('F1 Score:', f1)

roc_auc = roc_auc_score(y_test, y_pred)
print('ROC-AUC:', roc_auc)

























