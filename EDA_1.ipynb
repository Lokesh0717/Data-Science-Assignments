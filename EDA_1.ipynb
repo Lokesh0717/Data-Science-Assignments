import pandas as pd
df = pd.read_csv('/Users/junnu/Downloads/Data Science /Assignment Questions/EDA1/Cardiotocographic.csv')
df

missing_values = df.isnull().sum()

df = df.dropna(axis=1, thresh=0.5)
df = df.fillna(df.mean())


import pandas as pd
mixed_types = df.dtypes[df.dtypes.apply(lambda x: x.name in ['object', 'string'])]
for col in mixed_types.index:
  try:
    df[col] = pd.to_numeric(df[col])
  except:
    pass
print(df.dtypes)


z_scores = (df - df.mean()) / df.std()
outliers = (z_scores > 3) | (z_scores < -3)

outlier_counts = outliers.sum(axis=0)

df = df.drop(outliers.sum(axis=1)[outliers.sum(axis=1) > 3].index)

outlier_counts = outliers.sum(axis=0)
print(f"Outlier counts after treatment: {outlier_counts}")

z_scores = (df - df.mean()) / df.std()
outliers = (z_scores > 3) | (z_scores < -3)

df = df.drop(outliers.sum(axis=1)[outliers.sum(axis=1) > 3].index)
df = df.fillna(df.mean())
df.describe().round(3)
df.hist(figsize=(10, 8), bins=10)
df.boxplot(figsize=(10, 8))

import matplotlib.pyplot as plt
nsp_counts = df['NSP'].value_counts()

plt.bar(nsp_counts.index, nsp_counts.values)
plt.xlabel('NSP Category')
plt.ylabel('Frequency')
plt.title('Frequency of Fetal State Categories')
plt.show()

import matplotlib.pyplot as plt
import seaborn as sns
correlation_matrix = df.corr()
sns.heatmap(correlation_matrix, annot=True, cmap='coolwarm', fmt=".2f")
plt.show()

sns.scatterplot(data=df, x="LB", y="AC")
plt.xlabel("LB (Fetal Heart Rate Baseline)")
plt.ylabel("AC (Number of Accelerations per Second)")
plt.title("Scatter Plot of LB vs. AC")
plt.show()


import seaborn as sns
import matplotlib.pyplot as plt
sns.pairplot(df, diag_kind='kde')
plt.show()

correlation_matrix = df.corr()
nsp_correlations = correlation_matrix['NSP'].sort_values(ascending=False)
print("Top 5 most correlated variables with NSP:")
print(nsp_correlations.head(5))

import matplotlib.pyplot as plt
if 'Time' in df.columns:
  df_grouped = df.groupby('Time').agg(['mean', 'std', 'min', 'max'])
  selected_features = ['LB', 'AC', 'FM']
  for feature in selected_features:
    df_grouped[feature]['mean'].plot(label=feature)

  plt.xlabel('Time')
  plt.ylabel('Mean Value')
  plt.title('Mean Values of Selected Features Over Time')
  plt.legend()
  plt.show()
else:
  print("No temporal variable found in the dataset.")
























