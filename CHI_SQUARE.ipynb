import pandas as pd
import researchpy as rp

data = { 'Smart Thermostat': [50, 80, 60, 30, 20],
         'Smart Light': [70, 100, 90, 50, 50]}

df = pd.DataFrame(data)
table,results = rp.crosstab(df["Smart Thermostat"],df["Smart Light"],test="chi-square")
table
results

from scipy.stats import chi2
alpha = 0.05
df = len(data) - 1  
pvalue=0.2414

critical_value = chi2.ppf(1 - alpha, df)
print("Critical Value:", critical_value)

from scipy.stats import chi2_contingency
df = pd.DataFrame(data)
chi2, pvalue, dof, expected = chi2_contingency(df)
print("Chi-Square Value:", chi2)



if chi2 > critical_value:
    print("Reject Null Hypothesis (H0): There is a significant association between the type of device and customer satisfaction.")
else:
    print("Fail to Reject Null Hypothesis (H0): There is no significant association between the type of device and customer satisfaction.")




if pvalue > critical_value:
    print("Reject Null Hypothesis (H0): There is a significant association between the type of device and customer satisfaction.")
else:
    print("Fail to Reject Null Hypothesis (H0): There is no significant association between the type of device and customer satisfaction.")


#CONCLUSION

# Here is a significant association between the type of device and customer satisfaction.