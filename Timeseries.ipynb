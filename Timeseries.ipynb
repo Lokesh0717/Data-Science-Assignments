import pandas as pd
df = pd.read_csv('/Users/junnu/Downloads/Data Science /Assignment Questions/Timeseries/exchange_rate.csv')
df
df.isnull().sum()
df = df.fillna(method='ffill')
df.Ex_rate.plot()

from matplotlib import pyplot as plt
df['Ex_rate'].plot(kind='hist', bins=20, title='Ex_rate')
plt.gca().spines[['top', 'right',]].set_visible(False)

from statsmodels.tsa.stattools import acf, pacf
currency = df['Ex_rate']

plt.figure(figsize=(12, 6))
plt.subplot(1, 2, 1)
acf(currency, nlags=20)
plt.title('ACF for ' + currency.name)

plt.subplot(1, 2, 2)
pacf(currency, nlags=20)
plt.title('PACF for ' + currency.name)
plt.show()

p = 2
d = 1 
q = 1 

print(f'Estimated parameters for {currency.name}: p={p}, d={d}, q={q}')

from statsmodels.tsa.arima.model import ARIMA
model = ARIMA(df['Ex_rate'], order=(p, d, q))
results = model.fit()
print(results)

residuals = results.resid
import seaborn as sns
plt.figure(figsize=(12, 6))
plt.plot(df.index, residuals)
plt.title('Residuals for ' + currency.name)
plt.xlabel('Date')
plt.ylabel('Residuals')
plt.show()

plt.figure(figsize=(12, 6))
acf(residuals, nlags=20)
plt.title('ACF of Residuals for ' + currency.name)
plt.show()

plt.figure(figsize=(12, 6))
sns.distplot(residuals, kde=True)
plt.title('Distribution of Residuals for ' + currency.name)
plt.show()

n_steps = 10

forecast = results.forecast(steps=n_steps)

forecast_df = pd.DataFrame({'Forecast': forecast}, index=pd.date_range(start=df.index[-1], periods=n_steps + 1, freq='D'))

plt.figure(figsize=(12, 6))
plt.plot(df.index, df['Ex_rate'], label='Actual')
plt.plot(forecast_df.index, forecast_df['Forecast'], label='Forecast')
plt.title('Actual vs. Forecasted Exchange Rate')
plt.xlabel('Date')
plt.ylabel('Exchange Rate')
plt.legend()
plt.show()

from statsmodels.tsa.statespace.exponential_smoothing import ExponentialSmoothing
model = ExponentialSmoothing(df['Ex_rate'], trend='additive', seasonal=7)

model_fit = model.fit()

print(model_fit.summary())
n_steps = 10
forecast = model_fit.forecast(steps=n_steps)

forecast_df = pd.DataFrame({'Forecast': forecast}, index=pd.date_range(start=df.index[-1], periods=n_steps + 1, freq='D'))
plt.figure(figsize=(12, 6))
plt.plot(df.index, df['Ex_rate'], label='Actual')
plt.plot(forecast_df.index, forecast_df['Forecast'], label='Forecast')
plt.title('Actual vs. Forecasted Exchange Rate')
plt.xlabel('Date')
plt.ylabel('Exchange Rate')
plt.legend()
plt.show()

from statsmodels.tsa.statespace.exponential_smoothing import ExponentialSmoothing
model = ExponentialSmoothing(df['Ex_rate'], trend='additive', seasonal=int(7))
model_fit = model.fit()
print(model_fit.summary())

n_steps = 10
forecast = model_fit.forecast(steps=n_steps)

forecast_df = pd.DataFrame({'Forecast': forecast}, index=pd.date_range(start=df.index[-1], periods=n_steps + 1, freq='D'))

plt.figure(figsize=(12, 6))
plt.plot(df.index, df['Ex_rate'], label='Actual')
plt.plot(forecast_df.index, forecast_df['Forecast'], label='Forecast')
plt.title('Actual vs. Forecasted Exchange Rate')
plt.xlabel('Date')
plt.ylabel('Exchange Rate')
plt.legend()
plt.show()

import numpy as np
from sklearn.metrics import mean_absolute_error, mean_squared_error, mean_absolute_percentage_error

mae_arima = mean_absolute_error(df['Ex_rate'], results.forecast(steps=len(df)))
mae_ets = mean_absolute_error(df['Ex_rate'], model_fit.forecast(steps=len(df)))

rmse_arima = np.sqrt(mean_squared_error(df['Ex_rate'], results.forecast(steps=len(df))))
rmse_ets = np.sqrt(mean_squared_error(df['Ex_rate'], model_fit.forecast(steps=len(df))))

mape_arima = mean_absolute_percentage_error(df['Ex_rate'], results.forecast(steps=len(df)))
mape_ets = mean_absolute_percentage_error(df['Ex_rate'], model_fit.forecast(steps=len(df)))

print('MAE ARIMA:', mae_arima)
print('RMSE ARIMA:', rmse_arima)
print('MAPE ARIMA:', mape_arima)
print('MAE ETS:', mae_ets)
print('RMSE ETS:', rmse_ets)
print('MAPE ETS:', mape_ets)


model_arima = ARIMA(df['Ex_rate'], order=(2, 1, 1))
model_ets = ExponentialSmoothing(df['Ex_rate'], trend='additive', seasonal=7)

model_arima_fit = model_arima.fit()
model_ets_fit = model_ets.fit()

n_steps = 10
forecast_arima = model_arima_fit.forecast(steps=n_steps)
forecast_ets = model_ets_fit.forecast(steps=n_steps)

forecast_df_arima = pd.DataFrame({'Forecast': forecast_arima}, index=pd.date_range(start=df.index[-1], periods=n_steps + 1, freq='D'))
forecast_df_ets = pd.DataFrame({'Forecast': forecast_ets}, index=pd.date_range(start=df.index[-1], periods=n_steps + 1, freq='D'))

plt.figure(figsize=(12, 6))
plt.plot(df.index, df['Ex_rate'], label='Actual')
plt.plot(forecast_df_arima.index, forecast_df_arima['Forecast'], label='ARIMA Forecast')
plt.plot(forecast_df_ets.index, forecast_df_ets['Forecast'], label='ETS Forecast')
plt.title('Actual vs. Forecasted Exchange Rate')
plt.xlabel('Date')
plt.ylabel('Exchange Rate')
plt.legend()
plt.show()

mae_arima = mean_absolute_error(df['Ex_rate'], model_arima_fit.forecast(steps=len(df)))
rmse_arima = np.sqrt(mean_squared_error(df['Ex_rate'], model_arima_fit.forecast(steps=len(df))))
mape_arima = mean_absolute_percentage_error(df['Ex_rate'], model_arima_fit.forecast(steps=len(df)))
mae_ets = mean_absolute_error(df['Ex_rate'], model_ets_fit.forecast(steps=len(df)))
rmse_ets = np.sqrt(mean_squared_error(df['Ex_rate'], model_ets_fit.forecast(steps=len(df))))
mape_ets = mean_absolute_percentage_error(df['Ex_rate'], model_ets_fit.forecast(steps=len(df)))

print('MAE ARIMA:', mae_arima)
print('RMSE ARIMA:', rmse_arima)
print('MAPE ARIMA:', mape_arima)
print('MAE ETS:', mae_ets)
print('RMSE ETS:', rmse_ets)
print('MAPE ETS:', mape_ets)

if mae_arima < mae_ets and rmse_arima < rmse_ets and mape_arima < mape_ets:
    print('ARIMA model performs better.')
else:
    print('ETS model performs better.')
















































