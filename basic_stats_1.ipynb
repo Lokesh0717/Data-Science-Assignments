import pandas as pd
df = pd.read_csv('/Users/junnu/Downloads/Data Science /Assignment Questions/Basic stats - 1/sales_data_with_discounts.csv')
df

print("Numerical Column name : data type")
numerical_columns = df.select_dtypes(include=['int', 'float']).columns
for column in numerical_columns:
    print(f"{column}: {df[column].dtype}")
    
    
import numpy as np
for column in numerical_columns:
    print(f"Mean of {column}: {np.mean(df[column])}")
    print(f"Median of {column}: {np.median(df[column])}")
    print(f"Mode of {column}: {df[column].mode()[0]}")
    print(f"Standard deviation of {column}: {np.std(df[column])}")
    
import matplotlib.pyplot as plt
for col in numerical_columns:
    plt.hist(df[col])
    plt.title(f"Histogram of {col}")
    plt.show()
    
import seaborn as sns
for col in numerical_columns:
    sns.boxplot(x=df[col])
    plt.title(f"Boxplot of {col}")
    plt.show()
    
import matplotlib.pyplot as plt
categorical_columns = df.select_dtypes(include=['object']).columns
print ('categorical cloumns',[categorical_columns])
for col in categorical_columns:
    counts = df[col].value_counts()
    plt.bar(counts.index, counts.values)
    plt.title(f"Bar Chart for {col}")
    plt.xlabel(col)
    plt.ylabel("Count")
    plt.show()
    print(f"Frequency distribution of {col}:")
    print(counts)
    
for col in numerical_columns:
    df[f"zscore_{col}"] = (df[col] - df[col].mean()) / df[col].std()
    
    
for col in numerical_columns:
    print(f"Before standardization:")
    print(df[col].describe())
    print(f"After standardization:")
    print(df[f"zscore_{col}"].describe())
    
df_encoded = pd.get_dummies(df, columns=categorical_columns)
print(df_encoded.head())






#CONCLUSION

#Summarize the key findings from the descriptive analytics and data visualizations.






























