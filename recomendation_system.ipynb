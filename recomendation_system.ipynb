import pandas as pd
from sklearn.metrics.pairwise import cosine_similarity
from sklearn.model_selection import train_test_split
from sklearn.preprocessing import MultiLabelBinarizer, StandardScaler
from sklearn.metrics import precision_score,recall_score,f1_score

anime = pd.read_csv('/Users/junnu/Downloads/Data Science /Assignment Questions/Recommendation System/anime.csv')
anime.fillna({'genre': '', 'rating': anime['rating'].mean(), 'episodes': 0}, inplace=True)

mlb = MultiLabelBinarizer()
anime['genre'] = anime['genre'].apply(lambda x: x.split(', ') if x else [])
genre_encoded = mlb.fit_transform(anime['genre'])
genre_df = pd.DataFrame(genre_encoded, columns=mlb.classes_)
scaler = StandardScaler()
anime['rating'] = scaler.fit_transform(anime[['rating']])
features = pd.concat([genre_df, anime[['rating']]], axis=1)
train_features = features.loc[train.index]
cos_sim = cosine_similarity(train_features)

def recommend_anime(anime_id, df=train, features=train_features, cosine_sim=cos_sim, top_n=10):
    idx = df.index[df['anime_id'] == anime_id].tolist()[0]
    sim_scores = list(enumerate(cosine_sim[idx]))
    sim_scores = sorted(sim_scores, key=lambda x: x[1], reverse=True)
    sim_scores = sim_scores[1:top_n+1]
    anime_indices = [i[0] for i in sim_scores]
    return df.iloc[anime_indices]


def recommend_anime(anime_id, cosine_sim=cos_sim, df=anime, top_n=10):
    if anime_id not in df['anime_id'].values:
        return pd.DataFrame()  
    idx = df.index[df['anime_id'] == anime_id].tolist()[0]
    sim_scores = list(enumerate(cosine_sim[idx]))
    sim_scores = sorted(sim_scores, key=lambda x: x[1], reverse=True)
    sim_scores = sim_scores[1:top_n+1]
    anime_indices = [i[0] for i in sim_scores]
    return df[['anime_id', 'name']].iloc[anime_indices]
recommended_anime = recommend_anime(anime_id=9963, top_n=10)
print(recommended_anime)

train, test = train_test_split(anime, test_size=0.2, random_state=42)
ground_truth = []
predictions = []
mean_rating = train['rating'].mean()

for _, row in test.iterrows():
    anime_id = row['anime_id']
    
    if anime_id not in train['anime_id'].values:
        continue
    
    recommended_anime = recommend_anime(anime_id, top_n=10)
    
    if recommended_anime.empty:
        continue
    
    actual_ratings = test[test['anime_id'].isin(recommended_anime['anime_id'])]['rating']
    true_relevant = (actual_ratings > mean_rating).astype(int).tolist()
    
    ground_truth.extend(true_relevant)
    predictions.extend([1] * len(true_relevant))

if not predictions:
    predictions = [0]

if not ground_truth
    ground_truth = [0]

precision = precision_score(ground_truth, predictions, average='macro', zero_division=0)
recall = recall_score(ground_truth, predictions, average='macro', zero_division=0)
f1 = f1_score(ground_truth, predictions, average='macro', zero_division=0)

print(f'Precision: {precision:.2f}')
print(f'Recall: {recall:.2f}')
print(f'F1-Score: {f1:.2f}')


# CONCLUSION
Collaborative filtering is a powerful technique for recommendation systems that leverages the collective behavior of users to make personalized recommendations. By finding patterns and similarities in user interactions, it can effectively predict what items a user might like, making it widely used in various applications such as e-commerce, streaming services, and social media platforms.













































