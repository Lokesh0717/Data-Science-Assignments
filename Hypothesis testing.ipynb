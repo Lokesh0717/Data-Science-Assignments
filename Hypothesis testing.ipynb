from scipy.stats import norm
sample_mean = 3050  
theoretical_mean = 1000 + 5 * 600  
sample_size = 25
population_mean = 600  
population_std = 25  

standard_error = population_std / (sample_size ** 0.5)

z_score = (sample_mean - theoretical_mean) / standard_error

p_value = 1 - norm.cdf(z_score)

alpha = 0.05

print("Null Hypothesis (H0): The mean weekly operating cost is equal to the theoretical model's prediction.")
print("Alternative Hypothesis (H1): The mean weekly operating cost is greater than the theoretical model's prediction.")

if p_value < alpha:
    print("Reject the null hypothesis. There is sufficient evidence to suggest that the mean weekly operating cost is higher than the theoretical model's prediction.")
else:
    print("Fail to reject the null hypothesis. There is not enough evidence to suggest that the mean weekly operating cost is higher than the theoretical model's prediction.")


import scipy.stats as stats

sample_mean = 3050 
theoretical_mean = 1000 + 5 * 600 
population_std = 5 * 25  
sample_size = 25  

standard_error = population_std / (sample_size ** 0.5)

t_statistic = (sample_mean - theoretical_mean) / standard_error
print("Test Statistic (t):", t_statistic)

df = sample_size - 1

alpha = 0.05  
critical_value = stats.t.ppf(1 - alpha, df)
print("Critical Value (t_critical):", critical_value)




from scipy.stats import norm
alpha = 0.05  
critical_value = norm.ppf(1 - alpha)  
print("Critical Value (Z_critical):", critical_value)


test_statistic = 2.9  
critical_value = 1.645  

alpha = 0.05

if test_statistic > critical_value:
    print("Reject the null hypothesis. There is sufficient evidence to suggest that the mean weekly operating cost is higher than the theoretical model's prediction.")
else:
    print("Fail to reject the null hypothesis. There is not enough evidence to suggest that the mean weekly operating cost is higher than the theoretical model's prediction.")


# CONCLUSION

# If we rejected the null hypothesis: There is strong evidence to support the restaurant owner's claim.
#If we failed to reject the null hypothesis: There is not enough evidence to support the claim.


















































