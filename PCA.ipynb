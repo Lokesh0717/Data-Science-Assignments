import pandas as pd
df = pd.read_csv('/Users/junnu/Downloads/Data Science /Assignment Questions/PCA/wine.csv')
df
print(df.info())
print(df.describe())
df.isnull().sum()

import matplotlib.pyplot as plt
df.hist(figsize=(20, 10), bnis=15)
plt.show()

df.boxplot(figsize=(20, 10))
plt.show()

df.plot(kind='desnsity', subplots=True, layout=(4, 4), figsize=(20, 8))
plt.show()

corr_matrix = df.corr()
corr_matrix

m1 = corr_matrix['Flavanoids']['Phenols']
print(f"Correlation between Flavanoids content and Phenols: {m1:.2f}")

m2 = corr_matrix['Dilution']['Flavanoids']
print(f"Correlation between Dilution and Flavanoids: {m2:.2f}")

m3 = corr_matrix['Proline']['Alcohol']
print(f"Correlation between alcohol content and Proline: {m3:.2f}")

m4 = corr_matrix['Color']['Alcohol']
print(f"Correlation between Color and Alcohol: {m4:.2f}")


from sklearn.preprocessing import StandardScaler
scaler = StandardScaler()
scaled_data = scaler.fit_transform(df)


from sklearn.decomposition import PCA
pca = PCA()
pca.fit(scaled_data)

import numpy as np
explained_variance_ratio = pca.explained_variance_ratio_
cumulative_explained_variance = np.cumsum(explained_variance_ratio)


plt.figure(figsize=(10, 6))
plt.plot(range(1, len(explained_variance_ratio) + 1), explained_variance_ratio, marker='o')
plt.xlabel("Principal Component")
plt.ylabel("Explained Variance Ratio")
plt.title("Scree Plot")
plt.show()

n_components = 3
pca = PCA(n_components=n_components)
pca_data = pca.fit_transform(scaled_data)

from sklearn.cluster import KMeans
kmeans = KMeans(n_clusters=3)
kmeans.fit(df)

df['Cluster'] = kmeans.labels_
plt.figure(figsize=(10, 6))
plt.scatter(df['Alcohol'], df['Malic'], c=df['Cluster'], cmap='viridis')
plt.xlabel('Alcohol')
plt.ylabel('Malic')
plt.title('K-means Clustering with 3 Clusters')
plt.show()

from sklearn.metrics import silhouette_score
silhouette_score = silhouette_score(df, df['Cluster'])
print('Silhouette score:', silhouette_score)

from sklearn.metrics import davies_bouldin_score
davies_bouldin_score = davies_bouldin_score(df, df['Cluster'])
print('Davies–Bouldin index:', davies_bouldin_score)
kmeans = KMeans(n_clusters=3)
kmeans.fit(pca_data)
df['Cluster_PCA'] = kmeans.labels_


plt.figure(figsize=(10, 6))
plt.scatter(pca_data[:, 0], pca_data[:, 1], c=df['Cluster_PCA'], cmap='viridis')
plt.xlabel('Principal Component 1')
plt.ylabel('Principal Component 2')
plt.title('K-means Clustering with 3 Clusters on PCA-transformed data')
plt.show()


print('Clustering results on original data:')
print(df.groupby('Cluster').mean())

print('Clustering results on PCA-transformed data:')
print(df.groupby('Cluster_PCA').mean())


































