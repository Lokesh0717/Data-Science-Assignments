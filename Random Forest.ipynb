import pandas as pd
df = pd.read_excel('/Users/junnu/Downloads/Data Science /Assignment Questions/Random Forest/glass.xlsx',sheet_name='glass')
df
print(df.info())
print(df.describe())
print(df.isnull().sum())

corr_matrix = df.corr()

import matplotlib.pyplot as plt
import seaborn as sns
plt.figure(figsize=(12, 8))
sns.heatmap(corr_matrix, annot=True, cmap='coolwarm', linewidths=0.5)
plt.show()


import matplotlib.pyplot as plt
import seaborn as sns
df.hist(bins=15, figsize=(15, 10))
plt.tight_layout()
plt.show()
plt.figure(figsize=(15, 10))
for i, column in enumerate(df.columns[:-1], 1):
    plt.subplot(3, 3, i)
    sns.boxplot(y=df[column])
    plt.title(column)
plt.tight_layout()
plt.show()
sns.pairplot(df)
plt.show()

missing_values = df.isnull().sum()
missing_values

outlier_indices = []
for i, row in df.iterrows():
  z_scores = (row - df.mean()) / df.std()
  if any(abs(z_score) > 3 for z_score in z_scores):
    outlier_indices.append(i)
for col in df.columns:
  outliers = df[col][abs(df[col] - df[col].mean()) > 3 * df[col].std()]
  df[col][outliers.index] = df[col].mean()

plt.figure(figsize=(15, 10))
for i, column in enumerate(df.columns[:-1], 1):
    plt.subplot(3, 3, i)
    sns.boxplot(y=df[column])
    plt.title(column)
plt.tight_layout()
plt.show()
categorical_columns = df.select_dtypes(include=['object']).columns
for col in categorical_columns:
  df = pd.get_dummies(df, columns=[col])
categorical_columns
from sklearn.preprocessing import StandardScaler
scaler = StandardScaler()
scaled_features = scaler.fit_transform(df)

from sklearn.model_selection import train_test_split
X = scaled_features
y = df['Type']
X_train, X_test, y_train, y_test = train_test_split(X, y, test_size=0.25, random_state=42)


from sklearn.ensemble import RandomForestClassifier
rf_model = RandomForestClassifier(n_estimators=100, random_state=42)
rf_model.fit(X_train, y_train)
y_pred = rf_model.predict(X_test)

from sklearn.metrics import accuracy_score, precision_score, recall_score, f1_score
accuracy = accuracy_score(y_test, y_pred)
precision = precision_score(y_test, y_pred, average='weighted')
recall = recall_score(y_test, y_pred, average='weighted')
f1 = f1_score(y_test, y_pred, average='weighted')
print("Accuracy:", accuracy)
print("Precision:", precision)
print("Recall:", recall)
print("F1 Score:", f1)


from sklearn.ensemble import BaggingClassifier
bag_clf = BaggingClassifier(base_estimator=RandomForestClassifier(n_estimators=500, random_state=42),
                            n_estimators=100,
                            max_samples=0.25,
                            bootstrap=False,
                            random_state=42,
                            n_jobs=-1)
bag_clf.fit(X_train, y_train)
y_pred_bag = bag_clf.predict(X_test)
accuracy_bag = accuracy_score(y_test, y_pred_bag)
precision_bag = precision_score(y_test, y_pred_bag, average='weighted')
recall_bag = recall_score(y_test, y_pred_bag, average='weighted')
f1_bag = f1_score(y_test, y_pred_bag, average='weighted')
print("Bagging Results:")
print("Accuracy:", accuracy_bag)
print("Precision:", precision_bag)
print("Recall:", recall_bag)
print("F1 Score:", f1_bag)


from sklearn.ensemble import AdaBoostClassifier
boost_clf = AdaBoostClassifier(base_estimator=RandomForestClassifier(n_estimators=500, random_state=42),
                               n_estimators=100,
                               learning_rate=1.0,
                               random_state=42)
boost_clf.fit(X_train, y_train)
y_pred_boost = boost_clf.predict(X_test)
accuracy_boost = accuracy_score(y_test, y_pred_boost)
precision_boost = precision_score(y_test, y_pred_boost, average='weighted')
recall_boost = recall_score(y_test, y_pred_boost, average='weighted')
f1_boost = f1_score(y_test, y_pred_boost, average='weighted')
print("Boosting Results:")
print("Accuracy:", accuracy_boost)
print("Precision:", precision_boost)
print("Recall:", recall_boost)
print("F1 Score:", f1_boost)

print("Comparison:")
print("Bagging:")
print("- Accuracy:", accuracy_bag)
print("- Precision:", precision_bag)
print("- Recall:", recall_bag)
print("- F1 Score:", f1_bag)

print("Boosting:")
print("- Accuracy:", accuracy_boost)
print("- Precision:", precision_boost)
print("- Recall:", recall_boost)
print("- F1 Score:", f1_boost)















































