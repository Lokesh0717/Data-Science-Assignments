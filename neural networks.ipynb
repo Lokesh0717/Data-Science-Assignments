import pandas as pd
df = pd.read_csv('/Users/junnu/Downloads/Data Science /Assignment Questions/Neural networks/Alphabets_data.csv')
df

print("Shape of the dataset:", df.shape)
print("Number of samples:", df.shape[0])
print("Number of features:", df.shape[1] - 1)  
print("Classes:", df['letter'].unique())

from sklearn.impute import SimpleImputer
imputer = SimpleImputer(strategy='mean')
data_filled = imputer.fit_transform(df.drop(columns=['letter']))

from sklearn.preprocessing import LabelEncoder
X = df.drop(columns=['letter'])
y = df['letter']
label_encoder = LabelEncoder()
y_encoded = label_encoder.fit_transform(y)

from sklearn.preprocessing import StandardScaler
scaler = StandardScaler()
X_normalized = scaler.fit_transform(X)

X = df.drop(columns=['letter'])
y = df['letter']

from sklearn.model_selection import train_test_split
X_train, X_test, y_train, y_test = train_test_split(X_normalized, y_encoded, test_size=0.2, random_state=42)

from tensorflow.keras.models import Sequential
from tensorflow.keras.layers import Dense
model = Sequential()
model.add(Dense(units=100, activation='relu', input_shape=(X_train.shape[1],))) 
model.add(Dense(units=26, activation='softmax'))  

from sklearn.neural_network import MLPClassifier
ann_classifier = MLPClassifier(hidden_layer_sizes=(10,), activation='relu', solver='adam', max_iter=100)
ann_classifier.fit(X_train, y_train)
y_pred = ann_classifier.predict(X_test)

from sklearn.metrics import classification_report
print("Classification Report:")
print(classification_report(y_test, y_pred, target_names=label_encoder.classes_))

from sklearn.model_selection import GridSearchCV
param_grid = {'hidden_layer_sizes': [(50,), (100,), (50, 50), (100, 50)],
              'activation': ['relu', 'tanh'],
              'solver': ['adam', 'sgd'],
              'learning_rate_init': [0.001, 0.01, 0.1]}
grid_search = GridSearchCV(ann_classifier, param_grid, cv=3, scoring='accuracy')
grid_search.fit(X_train, y_train)

best_model = grid_search.best_estimator_
best_params = grid_search.best_params_
best_score = grid_search.best_score_
print("Best Parameters:", best_params)
print("Best Cross-Validation Score:", best_score)

y_pred = best_model.predict(X_test)a
print("Classification Report:")
print(classification_report(y_test, y_pred, target_names=label_encoder.classes_))

from sklearn.metrics import accuracy_score, precision_score, recall_score, f1_score
y_pred_default = ann_classifier.predict(X_test)
accuracy_default = accuracy_score(y_test, y_pred_default)
precision_default = precision_score(y_test, y_pred_default, average='weighted')
recall_default = recall_score(y_test, y_pred_default, average='weighted')
f1_default = f1_score(y_test, y_pred_default, average='weighted')

y_pred_tuned = best_model.predict(X_test)
accuracy_tuned = accuracy_score(y_test, y_pred_tuned)
precision_tuned = precision_score(y_test, y_pred_tuned, average='weighted')
recall_tuned = recall_score(y_test, y_pred_tuned, average='weighted')
f1_tuned = f1_score(y_test, y_pred_tuned, average='weighted')

print("Default Model:")
print("Accuracy:", accuracy_default)
print("Precision:", precision_default)
print("Recall:", recall_default)
print("F1-score:", f1_default)

print("Tuned Model:")
print("Accuracy:", accuracy_tuned)
print("Precision:", precision_tuned)
print("Recall:", recall_tuned)
print("F1-score:", f1_tuned)







































