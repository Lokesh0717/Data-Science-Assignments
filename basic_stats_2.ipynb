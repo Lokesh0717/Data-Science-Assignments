#A. Build 99% Confidence Interval Using Sample Standard Deviation

import numpy as np
from scipy import stats

data = np.array([1.13, 1.55, 1.43, 0.92, 1.25, 1.36, 1.32, 0.85, 1.07, 1.48, 1.20, 1.33, 1.18, 1.22, 1.29])

sample_mean = np.mean(data)
sample_std = np.std(data)

critical_value = stats.t.ppf(1 - 0.01/2, 14)

margin_error = critical_value * sample_std / np.sqrt(15)

lower_bound = sample_mean - margin_error
upper_bound = sample_mean + margin_error

print("99% Confidence Interval:", (lower_bound, upper_bound))

#B. Build 99% Confidence Interval Using Known Population Standard Deviation

import numpy as np
known_std = 0.2

critical_value = stats.t.ppf(1 - 0.01/2, 14)

margin_error = critical_value * known_std / np.sqrt(15)

lower_bound = sample_mean - margin_error
upper_bound = sample_mean + margin_error

print("99% Confidence Interval (Known Standard Deviation):", (lower_bound, upper_bound))